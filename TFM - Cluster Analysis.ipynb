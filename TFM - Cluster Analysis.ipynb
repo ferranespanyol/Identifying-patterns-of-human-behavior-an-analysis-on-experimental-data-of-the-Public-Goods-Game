{
 "cells": [
  {
   "cell_type": "code",
   "execution_count": 35,
   "metadata": {},
   "outputs": [],
   "source": [
    "import numpy as np\n",
    "import pandas as pd\n",
    "import matplotlib.pyplot as plt\n",
    "import seaborn as sns\n",
    "\n",
    "from sklearn.decomposition import PCA as sklearnPCA\n",
    "from sklearn.discriminant_analysis import LinearDiscriminantAnalysis as LDA\n",
    "from sklearn.datasets.samples_generator import make_blobs\n",
    "from pandas.tools.plotting import parallel_coordinates\n",
    "\n",
    "from sklearn.cluster import KMeans\n",
    "from scipy.stats import chisquare,ttest_ind"
   ]
  },
  {
   "cell_type": "markdown",
   "metadata": {},
   "source": [
    "## Load Data:"
   ]
  },
  {
   "cell_type": "code",
   "execution_count": 14,
   "metadata": {},
   "outputs": [],
   "source": [
    "# CLIMATE DAU \n",
    "partida_dau = pd.read_csv(\"dades/dades_csv/climatedau/game_partida.csv\", delimiter=',' , encoding=\"latin-1\")\n",
    "ronda_dau = pd.read_csv(\"dades/dades_csv/climatedau/game_ronda.csv\", delimiter=',' , encoding=\"latin-1\")\n",
    "user_dau = pd.read_csv(\"dades/dades_csv/climatedau/game_user.csv\", delimiter=',' , encoding=\"latin-1\")\n",
    "\n",
    "user_dau.drop(user_dau.index[3], inplace=True)\n",
    "userronda_dau = pd.read_csv(\"dades/dades_csv/climatedau/game_userronda.csv\", delimiter=',' , encoding=\"latin-1\")\n",
    "\n",
    "eq_user_dau = pd.read_csv(\"dades/eq_user_dau.csv\", delimiter=',' , encoding=\"latin-1\")\n",
    "ineq_user_dau = user_dau[~user_dau.user_id.isin(eq_user_dau['user_id'])]\n",
    "\n",
    "# CLIMATE STREET \n",
    "partida_street = pd.read_csv(\"dades/dades_csv/climatestreet/game_partida_street.csv\", delimiter=',' , encoding=\"latin-1\")\n",
    "ronda_street = pd.read_csv(\"dades/dades_csv/climatestreet/game_ronda_street.csv\", delimiter=',' , encoding=\"latin-1\")\n",
    "user_street = pd.read_csv(\"dades/dades_csv/climatestreet/game_user_street.csv\", delimiter=',' , encoding=\"latin-1\")\n",
    "user_street.drop(user_street[user_street['diners_inicials']== 0].index, inplace=True)\n",
    "userronda_street = pd.read_csv(\"dades/dades_csv/climatestreet/game_userronda_street.csv\", delimiter=',' , encoding=\"latin-1\")\n",
    "\n",
    "# CLIMATE VIL\n",
    "partida_vil = pd.read_csv(\"dades/dadesvil/partida.csv\", delimiter=',' , encoding=\"latin-1\")\n",
    "ronda_vil = pd.read_csv(\"dades/dadesvil/ronda.csv\", delimiter=',' , encoding=\"latin-1\")\n",
    "user_vil = pd.read_csv(\"dades/dadesvil/user.csv\", delimiter=',' , encoding=\"latin-1\")\n",
    "user_vil.drop(user_vil[user_vil['diners_inicials']== 0].index, inplace=True)\n",
    "userronda_vil = pd.read_csv(\"dades/dadesvil/userronda.csv\", delimiter=',' , encoding=\"latin-1\")\n",
    "\n",
    "user_street.rename(columns={'id': 'user_id'}, inplace=True)\n",
    "user_vil.rename(columns={'id': 'user_id'}, inplace=True)"
   ]
  },
  {
   "cell_type": "code",
   "execution_count": 15,
   "metadata": {},
   "outputs": [],
   "source": [
    "user_het=pd.concat([ineq_user_dau.loc[:,['user_id','diners_inicials']],user_street.loc[:,['user_id','diners_inicials']]])\n",
    "user_hom=pd.concat([eq_user_dau.loc[:,['user_id','diners_inicials']],user_vil.loc[:,['user_id','diners_inicials']]])"
   ]
  },
  {
   "cell_type": "code",
   "execution_count": 16,
   "metadata": {},
   "outputs": [],
   "source": [
    "def contribution_round(user, userronda, norm):\n",
    "    tonorm = user[['user_id','diners_inicials']]\n",
    "    tocontr = pd.merge(userronda,tonorm, on = 'user_id')\n",
    "    #Normalization\n",
    "    tocontr['selnorm'] = (tocontr['seleccio']/tocontr['diners_inicials'])*10\n",
    "    rondes = np.arange(1,11)\n",
    "    ronda_id = np.tile(rondes,len(np.unique(userronda['user_id']))) #324 users\n",
    "    tocontr['ronda_id'] = ronda_id\n",
    "    contr_round = pd.pivot(index = tocontr['user_id'], columns = tocontr['ronda_id'], values = tocontr[norm])\n",
    "    return contr_round"
   ]
  },
  {
   "cell_type": "code",
   "execution_count": 17,
   "metadata": {},
   "outputs": [],
   "source": [
    "# Normalized contributions per round\n",
    "## DAU\n",
    "contr_dau_norm = contribution_round(user_dau,userronda_dau, 'selnorm')\n",
    "contr_dau = contribution_round(user_dau,userronda_dau, 'seleccio')\n",
    "\n",
    "## DAU eq: \n",
    "eq_dau = pd.read_csv(\"dades/eq_dau.csv\", delimiter=',' , encoding=\"latin-1\")\n",
    "eq_contr_dau = eq_dau.iloc[:,2:12]\n",
    "eq_contr_dau = eq_contr_dau.set_index(eq_user_dau.user_id)\n",
    "eq_contr_dau_norm = contr_dau_norm[contr_dau_norm.index.isin(eq_dau['user_id'])]\n",
    "namesList = [np.linspace(1,10,10,dtype=int)]\n",
    "eq_contr_dau.columns = namesList\n",
    "eq_contr_dau_norm.columns = namesList\n",
    "\n",
    "## DAU ineq:\n",
    "ineq_dau = pd.read_csv(\"dades/ineq_dau.csv\", delimiter=',' , encoding=\"latin-1\")\n",
    "ineq_contr_dau = ineq_dau.iloc[:,2:12]\n",
    "ineq_contr_dau = ineq_contr_dau.set_index(ineq_user_dau.user_id)\n",
    "ineq_contr_dau_norm = contr_dau_norm[contr_dau_norm.index.isin(ineq_dau['user_id'])]\n",
    "ineq_contr_dau.columns = namesList\n",
    "ineq_contr_dau_norm.columns = namesList\n",
    "\n",
    "## STREET\n",
    "contr_street_norm = contribution_round(user_street,userronda_street, 'selnorm')\n",
    "contr_street = contribution_round(user_street,userronda_street, 'seleccio')\n",
    "\n",
    "## VIL\n",
    "contr_vil_norm = contribution_round(user_vil,userronda_vil, 'selnorm')\n",
    "contr_vil = contribution_round(user_vil,userronda_vil, 'seleccio')"
   ]
  },
  {
   "cell_type": "code",
   "execution_count": 18,
   "metadata": {},
   "outputs": [],
   "source": [
    "### Ronda 0: \n",
    "ronda_dau0 = pd.read_csv(\"dades/ronda_dau_0.csv\", delimiter=',' , encoding=\"latin-1\")\n",
    "ronda_street0 = pd.read_csv(\"dades/ronda_street_0.csv\", delimiter=',' , encoding=\"latin-1\")\n",
    "ronda_vil0 = pd.read_csv(\"dades/ronda_vil_0.csv\", delimiter=',' , encoding=\"latin-1\")"
   ]
  },
  {
   "cell_type": "code",
   "execution_count": 19,
   "metadata": {},
   "outputs": [],
   "source": [
    "daur = pd.read_csv(\"dades/dau_r.csv\", delimiter=',' , encoding=\"latin-1\")\n",
    "streetr = pd.read_csv(\"dades/street_r.csv\", delimiter=',' , encoding=\"latin-1\")\n",
    "vilr = pd.read_csv(\"dades/vil_r.csv\", delimiter=',' , encoding=\"latin-1\")"
   ]
  },
  {
   "cell_type": "code",
   "execution_count": 20,
   "metadata": {},
   "outputs": [],
   "source": [
    "def dataset_2(ds_r,user_ds):\n",
    "    table1 = ds_r[['user_id','partida_id','mean_contr']]\n",
    "    table2 = user_ds[['user_id', 'genere', 'rang_edat','prfinal1','prfinal2','prfinal3','prfinal4','prfinal5','prfinal6',\n",
    "                     'prfinal7','prfinal8','prfinal9','prfinal10','prfinal11','prfinal12','prfinal13','prfinal14','prfinal15']]\n",
    "    ds_2 = table1.merge(table2, on = 'user_id')\n",
    "    ds_2['genere'] =ds_2['genere'].map({'d': 1, 'h': 0})\n",
    "    ds_2['prfinal1'] =ds_2['prfinal1'].map({'r1': 1, 'r2': 2, 'r3':3, 'nan':0})\n",
    "    ds_2['prfinal2'] =ds_2['prfinal2'].map({'r1': 1, 'r2': 2, 'r3':3, 'r4':4,'nan':0})\n",
    "    ds_2['prfinal3'] =ds_2['prfinal3'].map({'r1': 1, 'r2': 2, 'r3':3, 'r4':4,'nan':0})\n",
    "    ds_2['prfinal4'] =ds_2['prfinal4'].map({'r1': 1, 'r2': 2, 'r3':3, 'r4':4,'nan':0})\n",
    "    ds_2['prfinal5'] =ds_2['prfinal5'].map({'r1': 1, 'r2': 2, 'r3':3, 'r4':4,'nan':0})\n",
    "    ds_2['prfinal6'] =ds_2['prfinal6'].map({'r1': 1, 'r2': 2, 'r3':3,'nan':0})\n",
    "    ds_2['prfinal7'] =ds_2['prfinal7'].map({'r1': 1, 'r2': 2, 'r3':3,'nan':0})\n",
    "    ds_2['prfinal8'] =ds_2['prfinal8'].map({'r1': 1, 'r2': 2, 'r3':3,'nan':0})\n",
    "    ds_2['prfinal9'] =ds_2['prfinal9'].map({'r1': 1, 'r2': 2, 'r3':3,'nan':0})\n",
    "    ds_2['prfinal10'] =ds_2['prfinal10'].map({'r1': 1, 'r2': 2, 'r3':3, 'r4':4,'nan':0})\n",
    "    ds_2['prfinal11'] =ds_2['prfinal11'].map({'r1': 1, 'r4': 3, 'r3':2,'nan':0})\n",
    "    ds_2['prfinal12'] =ds_2['prfinal12'].map({'r1': 1, 'r2': 2, 'r3':3, 'r4':4,'nan':0})\n",
    "    ds_2['prfinal13'] =ds_2['prfinal13'].map({'r1': 1, 'r2': 2, 'r3':3, 'r4':4,'nan':0})\n",
    "    ds_2['prfinal14'] =ds_2['prfinal14'].map({'r1': 1, 'r2': 2, 'r3':3, 'r4':4,'nan':0})\n",
    "    ds_2['prfinal15'] =ds_2['prfinal15'].map({'r1': 1, 'r2': 2, 'r3':3, 'r4':4,'nan':0})\n",
    "    return(ds_2)"
   ]
  },
  {
   "cell_type": "code",
   "execution_count": 21,
   "metadata": {},
   "outputs": [],
   "source": [
    "ds_2_dau = dataset_2(daur,user_dau)\n",
    "ds_2_street = dataset_2(streetr,user_street)\n",
    "\n",
    "user_vil.rename(columns={'enquesta_final_pr1': 'prfinal1', 'enquesta_final_pr2': 'prfinal2','enquesta_final_pr3': 'prfinal3',\n",
    "                        'enquesta_final_pr4': 'prfinal4','enquesta_final_pr5': 'prfinal5','enquesta_final_pr6': 'prfinal6',\n",
    "                        'enquesta_final_pr7': 'prfinal7','enquesta_final_pr8': 'prfinal8','enquesta_final_pr9': 'prfinal9',\n",
    "                        'enquesta_final_pr10': 'prfinal10','enquesta_final_pr11': 'prfinal11','enquesta_final_pr12': 'prfinal12',\n",
    "                        'enquesta_final_pr13': 'prfinal13',}, inplace=True)\n",
    "\n",
    "table1 = vilr[['user_id','partida_id','mean_contr']]\n",
    "table2 = user_vil[['user_id', 'genere', 'rang_edat','prfinal1','prfinal2','prfinal3','prfinal4','prfinal5','prfinal6',\n",
    "                 'prfinal7','prfinal8','prfinal9','prfinal10','prfinal11','prfinal12','prfinal13']]\n",
    "ds_2_vil = table1.merge(table2, on = 'user_id')\n",
    "ds_2_vil['genere'] =ds_2_vil['genere'].map({'F': 1, 'M': 0})\n",
    "\n",
    "#create new df \n",
    "final_dau = pd.DataFrame({'ronda_obj':ronda_dau0.groupby('partida_id').last()['num_ronda'],\n",
    "                            'partida_id':np.unique(ronda_dau0['partida_id'])})\n",
    "\n",
    "final_street = pd.DataFrame({'ronda_obj':ronda_street0.groupby('partida_id').last()['num_ronda'],\n",
    "                            'partida_id':np.unique(ronda_street0['partida_id'])})\n",
    "\n",
    "final_vil = pd.DataFrame({'ronda_obj':ronda_vil0.groupby('partida_id').last()['num_ronda'],\n",
    "                            'partida_id':np.unique(ronda_vil0['partida_id'])})\n",
    "#print (df)\n",
    "\n",
    "ronda_dau_data = pd.read_csv(\"dades/ronda_dau_partida.csv\", delimiter=',' , encoding=\"latin-1\")\n",
    "ronda_street_data = pd.read_csv(\"dades/ronda_street_partida.csv\", delimiter=',' , encoding=\"latin-1\")\n",
    "ronda_vil_data = pd.read_csv(\"dades/ronda_vil_partida.csv\", delimiter=',' , encoding=\"latin-1\")\n",
    "\n",
    "partides_info_dau = ronda_dau_data.pivot(index='partida_id', columns='num_ronda', values= \"bucket\")\n",
    "partides_info_street = ronda_street_data.pivot(index='partida_id', columns='num_ronda', values= \"bucket\")\n",
    "partides_info_vil = ronda_vil_data.pivot(index='partida_id', columns='num_ronda', values= \"bucket\")\n",
    "\n",
    "#ineq_contr_dau_norm.to_csv('dades/ineq_contr_dau_norm.csv', sep=',')\n",
    "#eq_contr_dau_norm.to_csv('dades/eq_contr_dau_norm.csv', sep=',')\n",
    "#contr_street_norm.to_csv('dades/contr_street_norm.csv', sep=',')\n",
    "#contr_vil_norm.to_csv('dades/contr_vil_norm.csv', sep=',')"
   ]
  },
  {
   "cell_type": "code",
   "execution_count": 22,
   "metadata": {},
   "outputs": [],
   "source": [
    "## Datasets: Heterogeneous, Homogeneous, Heterogeneous norm, Homogeneous norm\n",
    "ineq_contr_dau_2= ineq_contr_dau.assign(experiment='het_dau')\n",
    "contr_street_2= contr_street.assign(experiment='street')\n",
    "frames_het = [ineq_contr_dau_2, contr_street_2]\n",
    "heterogeneous = pd.concat(frames_het)\n",
    "\n",
    "eq_contr_dau_2= eq_contr_dau.assign(experiment='hom_dau')\n",
    "contr_vil_2= contr_vil.assign(experiment='vil')\n",
    "frames_hom = [eq_contr_dau_2, contr_vil_2]\n",
    "homogeneous = pd.concat(frames_hom)\n",
    "\n",
    "ineq_contr_dau_2= ineq_contr_dau_norm.assign(experiment='het_dau')\n",
    "contr_street_2= contr_street_norm.assign(experiment='street')\n",
    "frames_het = [ineq_contr_dau_2, contr_street_2]\n",
    "heterogeneous_norm = pd.concat(frames_het)\n",
    "\n",
    "eq_contr_dau_2= eq_contr_dau_norm.assign(experiment='hom_dau')\n",
    "contr_vil_2= contr_vil_norm.assign(experiment='vil')\n",
    "frames_hom = [eq_contr_dau_2, contr_vil_2]\n",
    "homogeneous_norm = pd.concat(frames_hom)"
   ]
  },
  {
   "cell_type": "code",
   "execution_count": 23,
   "metadata": {},
   "outputs": [
    {
     "data": {
      "text/html": [
       "<div>\n",
       "<style>\n",
       "    .dataframe thead tr:only-child th {\n",
       "        text-align: right;\n",
       "    }\n",
       "\n",
       "    .dataframe thead th {\n",
       "        text-align: left;\n",
       "    }\n",
       "\n",
       "    .dataframe tbody tr th {\n",
       "        vertical-align: top;\n",
       "    }\n",
       "</style>\n",
       "<table border=\"1\" class=\"dataframe\">\n",
       "  <thead>\n",
       "    <tr style=\"text-align: right;\">\n",
       "      <th>ronda_id</th>\n",
       "      <th>1</th>\n",
       "      <th>2</th>\n",
       "      <th>3</th>\n",
       "      <th>4</th>\n",
       "      <th>5</th>\n",
       "      <th>6</th>\n",
       "      <th>7</th>\n",
       "      <th>8</th>\n",
       "      <th>9</th>\n",
       "      <th>10</th>\n",
       "      <th>experiment</th>\n",
       "    </tr>\n",
       "    <tr>\n",
       "      <th>user_id</th>\n",
       "      <th></th>\n",
       "      <th></th>\n",
       "      <th></th>\n",
       "      <th></th>\n",
       "      <th></th>\n",
       "      <th></th>\n",
       "      <th></th>\n",
       "      <th></th>\n",
       "      <th></th>\n",
       "      <th></th>\n",
       "      <th></th>\n",
       "    </tr>\n",
       "  </thead>\n",
       "  <tbody>\n",
       "    <tr>\n",
       "      <th>5</th>\n",
       "      <td>3</td>\n",
       "      <td>4</td>\n",
       "      <td>3</td>\n",
       "      <td>3</td>\n",
       "      <td>0</td>\n",
       "      <td>1</td>\n",
       "      <td>0</td>\n",
       "      <td>2</td>\n",
       "      <td>4</td>\n",
       "      <td>0</td>\n",
       "      <td>het_dau</td>\n",
       "    </tr>\n",
       "    <tr>\n",
       "      <th>9</th>\n",
       "      <td>2</td>\n",
       "      <td>3</td>\n",
       "      <td>3</td>\n",
       "      <td>4</td>\n",
       "      <td>3</td>\n",
       "      <td>1</td>\n",
       "      <td>1</td>\n",
       "      <td>0</td>\n",
       "      <td>2</td>\n",
       "      <td>1</td>\n",
       "      <td>het_dau</td>\n",
       "    </tr>\n",
       "    <tr>\n",
       "      <th>10</th>\n",
       "      <td>3</td>\n",
       "      <td>4</td>\n",
       "      <td>3</td>\n",
       "      <td>4</td>\n",
       "      <td>3</td>\n",
       "      <td>4</td>\n",
       "      <td>4</td>\n",
       "      <td>1</td>\n",
       "      <td>2</td>\n",
       "      <td>2</td>\n",
       "      <td>het_dau</td>\n",
       "    </tr>\n",
       "    <tr>\n",
       "      <th>11</th>\n",
       "      <td>4</td>\n",
       "      <td>4</td>\n",
       "      <td>4</td>\n",
       "      <td>4</td>\n",
       "      <td>4</td>\n",
       "      <td>4</td>\n",
       "      <td>3</td>\n",
       "      <td>3</td>\n",
       "      <td>4</td>\n",
       "      <td>4</td>\n",
       "      <td>het_dau</td>\n",
       "    </tr>\n",
       "    <tr>\n",
       "      <th>12</th>\n",
       "      <td>3</td>\n",
       "      <td>4</td>\n",
       "      <td>4</td>\n",
       "      <td>4</td>\n",
       "      <td>4</td>\n",
       "      <td>3</td>\n",
       "      <td>3</td>\n",
       "      <td>3</td>\n",
       "      <td>4</td>\n",
       "      <td>3</td>\n",
       "      <td>het_dau</td>\n",
       "    </tr>\n",
       "  </tbody>\n",
       "</table>\n",
       "</div>"
      ],
      "text/plain": [
       "ronda_id  1  2  3  4  5  6  7  8  9  10 experiment\n",
       "user_id                                           \n",
       "5         3  4  3  3  0  1  0  2  4   0    het_dau\n",
       "9         2  3  3  4  3  1  1  0  2   1    het_dau\n",
       "10        3  4  3  4  3  4  4  1  2   2    het_dau\n",
       "11        4  4  4  4  4  4  3  3  4   4    het_dau\n",
       "12        3  4  4  4  4  3  3  3  4   3    het_dau"
      ]
     },
     "execution_count": 23,
     "metadata": {},
     "output_type": "execute_result"
    }
   ],
   "source": [
    "heterogeneous.head()"
   ]
  },
  {
   "cell_type": "code",
   "execution_count": 24,
   "metadata": {},
   "outputs": [],
   "source": [
    "## Took from: https://stackoverflow.com/questions/35611465/python-scikit-learn-clustering-with-missing-data\n",
    "\n",
    "import numpy as np\n",
    "from sklearn.cluster import KMeans\n",
    "\n",
    "def kmeans_missing(X, n_clusters, max_iter=10):\n",
    "    \"\"\"Perform K-Means clustering on data with missing values.\n",
    "\n",
    "    Args:\n",
    "      X: An [n_samples, n_features] array of data to cluster.\n",
    "      n_clusters: Number of clusters to form.\n",
    "      max_iter: Maximum number of EM iterations to perform.\n",
    "\n",
    "    Returns:\n",
    "      labels: An [n_samples] vector of integer labels.\n",
    "      centroids: An [n_clusters, n_features] array of cluster centroids.\n",
    "      X_hat: Copy of X with the missing values filled in.\n",
    "    \"\"\"\n",
    "\n",
    "    # Initialize missing values to their column means\n",
    "    missing = ~np.isfinite(X)\n",
    "    mu = np.nanmean(X, 0, keepdims=1)\n",
    "    X_hat = np.where(missing, mu, X)\n",
    "\n",
    "    for i in range(max_iter):\n",
    "        if i > 0:\n",
    "            # initialize KMeans with the previous set of centroids. this is much\n",
    "            # faster and makes it easier to check convergence (since labels\n",
    "            # won't be permuted on every iteration), but might be more prone to\n",
    "            # getting stuck in local minima.\n",
    "            cls = KMeans(n_clusters, init=prev_centroids, random_state=0)\n",
    "        else:\n",
    "            # do multiple random initializations in parallel\n",
    "            cls = KMeans(n_clusters, n_jobs=-1, random_state=0)\n",
    "\n",
    "        # perform clustering on the filled-in data\n",
    "        labels = cls.fit_predict(X_hat)\n",
    "        centroids = cls.cluster_centers_\n",
    "\n",
    "        # fill in the missing values based on their cluster centroids\n",
    "        X_hat[missing] = centroids[labels][missing]\n",
    "\n",
    "        # when the labels have stopped changing then we have converged\n",
    "        if i > 0 and np.all(labels == prev_labels):\n",
    "            break\n",
    "\n",
    "        prev_labels = labels\n",
    "        prev_centroids = cls.cluster_centers_\n",
    "\n",
    "    return labels, centroids, X_hat"
   ]
  },
  {
   "cell_type": "code",
   "execution_count": 25,
   "metadata": {},
   "outputs": [],
   "source": [
    "def ending_game(final_ds,contr_ds,user_ds,ending_pos,name_ds):\n",
    "    final = final_ds[final_ds.ronda_obj==ending_pos]\n",
    "    mean_contr_ds= contr_ds.mean(axis=0)\n",
    "    x = np.linspace(1, 10, 10)\n",
    "    list_contr=[]\n",
    "    for i in final.partida_id.unique():\n",
    "        game_contr = contr_ds.loc[list(user_ds[user_ds.partida_id==i].user_id),:]\n",
    "        mean_contr_game = game_contr.describe().loc['mean',:]\n",
    "        list_contr.append([i,game_contr])\n",
    "    return(list_contr)"
   ]
  },
  {
   "cell_type": "code",
   "execution_count": 26,
   "metadata": {},
   "outputs": [],
   "source": [
    "def final_table(final_ds, contr_ds, user_ds, name_ds):\n",
    "    list1=[]\n",
    "    for j in [7,8,9,10]:\n",
    "        end= ending_game(final_ds, contr_ds, user_ds, j,name_ds)\n",
    "        for i in range(len(end)):\n",
    "            contr_g = end[i][1].iloc[:,(10-j):]\n",
    "            list1.append(contr_g)\n",
    "    frames = [i for i in list1]\n",
    "    table = pd.concat(frames)\n",
    "    return(table)"
   ]
  },
  {
   "cell_type": "code",
   "execution_count": 27,
   "metadata": {},
   "outputs": [],
   "source": [
    "table_street = final_table(final_street,contr_street_norm, user_street, 'Street')\n",
    "table_vil = final_table(final_vil,contr_vil_norm, user_vil, 'Vil')\n",
    "table_eq_dau = final_table(final_dau[final_dau.index.isin(eq_user_dau.partida_id)],eq_contr_dau_norm, eq_user_dau, 'Homogeneous DAU')\n",
    "table_ineq_dau = final_table(final_dau[final_dau.index.isin(ineq_user_dau.partida_id)],ineq_contr_dau_norm, ineq_user_dau, 'Heterogeneous DAU')\n",
    "\n",
    "table_het = pd.concat([table_ineq_dau, table_street])\n",
    "table_hom = pd.concat([table_eq_dau, table_vil])"
   ]
  },
  {
   "cell_type": "code",
   "execution_count": 29,
   "metadata": {},
   "outputs": [],
   "source": [
    "## Table with clustering information of each user\n",
    "categ_het = pd.read_csv(\"dades/categ_het.csv\", delimiter=',' , encoding=\"latin-1\", index_col= 0)\n",
    "categ_hom = pd.read_csv(\"dades/categ_hom.csv\", delimiter=',' , encoding=\"latin-1\", index_col= 0)"
   ]
  },
  {
   "cell_type": "markdown",
   "metadata": {},
   "source": [
    "#### Heterogeneous K-Means:"
   ]
  },
  {
   "cell_type": "code",
   "execution_count": 28,
   "metadata": {},
   "outputs": [
    {
     "data": {
      "image/png": "[encoded data removed]",
      "text/plain": [
       "<matplotlib.figure.Figure at 0x22c22cb3dd8>"
      ]
     },
     "metadata": {},
     "output_type": "display_data"
    }
   ],
   "source": [
    "X = heterogeneous.iloc[:,:10]\n",
    "pca = sklearnPCA(n_components=10)\n",
    "pca.fit(X)\n",
    "X_pca = pca.transform(X)\n",
    "plt.plot(np.cumsum(pca.explained_variance_ratio_))\n",
    "plt.xlabel('number of components')\n",
    "plt.ylabel('cumulative explained variance')\n",
    "plt.show()"
   ]
  },
  {
   "cell_type": "code",
   "execution_count": 17,
   "metadata": {},
   "outputs": [
    {
     "name": "stderr",
     "output_type": "stream",
     "text": [
      "C:\\Users\\USER\\Anaconda3\\lib\\site-packages\\sklearn\\cluster\\k_means_.py:896: RuntimeWarning: Explicit initial center position passed: performing only one init in k-means instead of n_init=10\n",
      "  return_n_iter=True)\n"
     ]
    },
    {
     "data": {
      "image/png": "[encoded data removed]",
      "text/plain": [
       "<matplotlib.figure.Figure at 0x1f179ed9f28>"
      ]
     },
     "metadata": {},
     "output_type": "display_data"
    }
   ],
   "source": [
    "X = table_het\n",
    "n_clusters = 3\n",
    "labels, centroids, X_hat = kmeans_missing(X,n_clusters, max_iter=10)\n",
    "\n",
    "X_hat = pd.DataFrame(X_hat, index = X.index )\n",
    "### PCA: \n",
    "### Unsupervised clustering (K-MEANS)\n",
    "\n",
    "X = heterogeneous_norm.iloc[:,:10]\n",
    "k_means = KMeans(n_clusters=n_clusters, random_state=0, n_init = 30).fit(X)\n",
    "clustcoef_het = k_means.labels_\n",
    "y_het = clustcoef_het\n",
    "pca = sklearnPCA(n_components=2) #2-dimensional PCA\n",
    "transformed = pd.DataFrame(pca.fit_transform(X),index = X.index)\n",
    "\n",
    "X_0 = X_hat\n",
    "k_means_0 = KMeans(n_clusters=n_clusters, random_state=0, n_init = 30).fit(X_0)\n",
    "clustcoef_0_het = k_means_0.labels_\n",
    "y_0_het = clustcoef_0_het\n",
    "pca = sklearnPCA(n_components=2) #2-dimensional PCA\n",
    "transformed_0 = pd.DataFrame(pca.fit_transform(X_0), index = X_0.index)\n",
    "\n",
    "\n",
    "plt.figure(figsize=(12,6))\n",
    "plt.subplot(121, title='Heterogeneous K-Means')\n",
    "plt.scatter(transformed[y_het==0][0], transformed[y_het==0][1], label='Class 1', c='red')\n",
    "plt.scatter(transformed[y_het==1][0], transformed[y_het==1][1], label='Class 2', c='blue')\n",
    "plt.scatter(transformed[y_het==2][0], transformed[y_het==2][1], label='Class 3', c='lightgreen')\n",
    "for label, x, y in zip(transformed[y_het==2].index,transformed[y_het==2][ 0], transformed[y_het==2][1]):  \n",
    "    plt.annotate(\n",
    "        label,\n",
    "        xy=(x, y), xytext=(-3, 3),\n",
    "        textcoords='offset points', ha='right', va='bottom')\n",
    "plt.legend()\n",
    "plt.subplot(122, title='Heterogeneous without ending rounds K-Means')\n",
    "plt.scatter(transformed_0[y_0_het==0][0], transformed_0[y_0_het==0][1], label='Class 1', c='red')\n",
    "plt.scatter(transformed_0[y_0_het==2][0], transformed_0[y_0_het==2][1], label='Class 2', c='blue')\n",
    "plt.scatter(transformed_0[y_0_het==1][0], transformed_0[y_0_het==1][1], label='Class 3', c='lightgreen')\n",
    "for label, x, y in zip(transformed_0[y_0_het==1].index,transformed_0[y_0_het==1][ 0], transformed_0[y_0_het==1][1]):  \n",
    "    plt.annotate(\n",
    "        label,\n",
    "        xy=(x, y), xytext=(-3, 3),\n",
    "        textcoords='offset points', ha='right', va='bottom')\n",
    "plt.legend()\n",
    "plt.show()"
   ]
  },
  {
   "cell_type": "markdown",
   "metadata": {},
   "source": [
    "#### Homogeneous K-Means:"
   ]
  },
  {
   "cell_type": "code",
   "execution_count": 18,
   "metadata": {},
   "outputs": [
    {
     "name": "stderr",
     "output_type": "stream",
     "text": [
      "C:\\Users\\USER\\Anaconda3\\lib\\site-packages\\sklearn\\cluster\\k_means_.py:896: RuntimeWarning: Explicit initial center position passed: performing only one init in k-means instead of n_init=10\n",
      "  return_n_iter=True)\n"
     ]
    },
    {
     "data": {
      "image/png": "[encoded data removed]",
      "text/plain": [
       "<matplotlib.figure.Figure at 0x1f175f40a20>"
      ]
     },
     "metadata": {},
     "output_type": "display_data"
    }
   ],
   "source": [
    "X = table_hom\n",
    "n_clusters = 3\n",
    "labels, centroids, X_hat = kmeans_missing(X,n_clusters, max_iter=10)\n",
    "\n",
    "X_hat = pd.DataFrame(X_hat, index = X.index )\n",
    "### PCA: \n",
    "### Unsupervised clustering (K-MEANS)\n",
    "\n",
    "X = homogeneous.iloc[:,:10]\n",
    "k_means = KMeans(n_clusters=n_clusters, random_state=0).fit(X)\n",
    "clustcoef_hom = k_means.labels_\n",
    "y_hom = clustcoef_hom\n",
    "pca = sklearnPCA(n_components=2) #2-dimensional PCA\n",
    "transformed = pd.DataFrame(pca.fit_transform(X),index = X.index)\n",
    "\n",
    "X_0 = X_hat\n",
    "k_means_0 = KMeans(n_clusters=n_clusters, random_state=0).fit(X_0)\n",
    "clustcoef_0_hom = k_means_0.labels_\n",
    "y_0_hom = clustcoef_0_hom\n",
    "pca = sklearnPCA(n_components=2) #2-dimensional PCA\n",
    "transformed_0 = pd.DataFrame(pca.fit_transform(X_0), index = X_0.index)\n",
    "\n",
    "\n",
    "plt.figure(figsize=(12,6))\n",
    "plt.subplot(121, title='Homogeneous K-Means')\n",
    "plt.scatter(transformed[y_hom==0][0], transformed[y_hom==0][1], label='Class 1', c='red')\n",
    "plt.scatter(transformed[y_hom==1][0], transformed[y_hom==1][1], label='Class 2', c='blue')\n",
    "plt.scatter(transformed[y_hom==2][0], transformed[y_hom==2][1], label='Class 3', c='lightgreen')\n",
    "#for label, x, y in zip(transformed[y==0].index,transformed[y==0][ 0], transformed[y==0][1]):  \n",
    "#    plt.annotate(\n",
    "#        label,\n",
    "#        xy=(x, y), xytext=(-3, 3),\n",
    "#        textcoords='offset points', ha='right', va='bottom')\n",
    "plt.legend()\n",
    "plt.subplot(122, title='Homogeneous without ending rounds K-Means')\n",
    "plt.scatter(transformed_0[y_0_hom==0][0], transformed_0[y_0_hom==0][1], label='Class 1', c='red')\n",
    "plt.scatter(transformed_0[y_0_hom==1][0], transformed_0[y_0_hom==1][1], label='Class 2', c='blue')\n",
    "plt.scatter(transformed_0[y_0_hom==2][0], transformed_0[y_0_hom==2][1], label='Class 3', c='lightgreen')\n",
    "#for label, x, y in zip(transformed_0[y_0==0].index,transformed_0[y_0==0][ 0], transformed_0[y_0==0][1]):  \n",
    "#    plt.annotate(\n",
    "#        label,\n",
    "#        xy=(x, y), xytext=(-3, 3),\n",
    "#        textcoords='offset points', ha='right', va='bottom')\n",
    "plt.legend()\n",
    "plt.show()"
   ]
  },
  {
   "cell_type": "code",
   "execution_count": 19,
   "metadata": {},
   "outputs": [
    {
     "name": "stderr",
     "output_type": "stream",
     "text": [
      "C:\\Users\\USER\\Anaconda3\\lib\\site-packages\\sklearn\\cluster\\k_means_.py:896: RuntimeWarning: Explicit initial center position passed: performing only one init in k-means instead of n_init=10\n",
      "  return_n_iter=True)\n"
     ]
    },
    {
     "data": {
      "image/png": "[encoded data removed]",
      "text/plain": [
       "<matplotlib.figure.Figure at 0x1f179f95dd8>"
      ]
     },
     "metadata": {},
     "output_type": "display_data"
    }
   ],
   "source": [
    "X = table_hom\n",
    "n_clusters = 2\n",
    "labels, centroids, X_hat = kmeans_missing(X,n_clusters, max_iter=10)\n",
    "\n",
    "X_hat = pd.DataFrame(X_hat, index = X.index )\n",
    "### PCA: \n",
    "### Unsupervised clustering (K-MEANS)\n",
    "\n",
    "X = homogeneous.iloc[:,:10]\n",
    "k_means = KMeans(n_clusters=n_clusters, random_state=0).fit(X)\n",
    "clustcoef_hom = k_means.labels_\n",
    "y_hom2 = clustcoef_hom\n",
    "pca = sklearnPCA(n_components=2) #2-dimensional PCA\n",
    "transformed = pd.DataFrame(pca.fit_transform(X),index = X.index)\n",
    "\n",
    "X_0 = X_hat\n",
    "k_means_0 = KMeans(n_clusters=n_clusters, random_state=0).fit(X_0)\n",
    "clustcoef_0_hom = k_means_0.labels_\n",
    "y_0_hom2 = clustcoef_0_hom\n",
    "pca = sklearnPCA(n_components=2) #2-dimensional PCA\n",
    "transformed_0 = pd.DataFrame(pca.fit_transform(X_0), index = X_0.index)\n",
    "\n",
    "\n",
    "plt.figure(figsize=(12,6))\n",
    "plt.subplot(121, title='Homogeneous K-Means')\n",
    "plt.scatter(transformed[y_hom2==0][0], transformed[y_hom2==0][1], label='Class 1', c='red')\n",
    "plt.scatter(transformed[y_hom2==1][0], transformed[y_hom2==1][1], label='Class 2', c='blue')\n",
    "#plt.scatter(transformed[y==2][0], transformed[y==2][1], label='Class 3', c='lightgreen')\n",
    "#for label, x, y in zip(transformed[y==1].index,transformed[y==1][ 0], transformed[y==1][1]):  \n",
    "#    plt.annotate(\n",
    "#        label,\n",
    "#        xy=(x, y), xytext=(-3, 3),\n",
    "#        textcoords='offset points', ha='right', va='bottom')\n",
    "plt.legend()\n",
    "plt.subplot(122, title='Homogeneous without ending rounds K-Means')\n",
    "plt.scatter(transformed_0[y_0_hom2==1][0], transformed_0[y_0_hom2==1][1], label='Class 1', c='red')\n",
    "plt.scatter(transformed_0[y_0_hom2==0][0], transformed_0[y_0_hom2==0][1], label='Class 2', c='blue')\n",
    "#plt.scatter(transformed_0[y_0==2][0], transformed_0[y_0==2][1], label='Class 3', c='lightgreen')\n",
    "#for label, x, y in zip(transformed_0[y_0==1].index,transformed_0[y_0==1][ 0], transformed_0[y_0==1][1]):  \n",
    "#    plt.annotate(\n",
    "#        label,\n",
    "#        xy=(x, y), xytext=(-3, 3),\n",
    "#        textcoords='offset points', ha='right', va='bottom')\n",
    "plt.legend()\n",
    "plt.show()"
   ]
  },
  {
   "cell_type": "code",
   "execution_count": 20,
   "metadata": {},
   "outputs": [],
   "source": [
    "#heterogeneous['clust_coef'] = clustcoef_het"
   ]
  },
  {
   "cell_type": "markdown",
   "metadata": {},
   "source": [
    "### Identification of clusters: "
   ]
  },
  {
   "cell_type": "markdown",
   "metadata": {},
   "source": [
    "First: find the initial endowment of each cluster (categ_ variable) and plot the histogram.\n",
    "Second: Variables total contribution / endowment, mean contribution distributions.\n",
    "Third: Evolution in the mean contribution of each cluster. "
   ]
  },
  {
   "cell_type": "code",
   "execution_count": 42,
   "metadata": {},
   "outputs": [],
   "source": [
    "def label_saving (row,category):\n",
    "    if row[category] < 0.33 :\n",
    "        return 0\n",
    "    if row[category] >= 0.33 and row[category] <= 0.66 :\n",
    "        return 1\n",
    "    else:\n",
    "        return 2"
   ]
  },
  {
   "cell_type": "code",
   "execution_count": 43,
   "metadata": {},
   "outputs": [],
   "source": [
    "def label_saving_4 (row,category):\n",
    "    if row[category] < 0.250 :\n",
    "        return 0\n",
    "    if row[category] >= 0.250 and row[category] < 0.500:\n",
    "        return 1\n",
    "    if row[category] >= 0.500 and row[category] < 0.750 :\n",
    "        return 2\n",
    "    else:\n",
    "        return 3"
   ]
  },
  {
   "cell_type": "code",
   "execution_count": 44,
   "metadata": {},
   "outputs": [],
   "source": [
    "def categories (contr_ds,user_ds):\n",
    "    category_ds = user_ds.loc[:,[\"user_id\",\"diners_inicials\",'partida_id']]\n",
    "    category_ds.set_index('user_id', inplace=True)\n",
    "    category_ds['contr_total']=contr_ds.sum(axis=1)\n",
    "    category_ds['mean_contr']=contr_ds.mean(axis=1)\n",
    "    category_ds['contr/budget']= (category_ds.contr_total)/ category_ds.diners_inicials\n",
    "    category_ds['category']=category_ds.apply (lambda row: label_saving (row,'contr/budget'),axis=1)\n",
    "    category_ds['category4']=category_ds.apply (lambda row: label_saving_4 (row,'contr/budget'),axis=1) \n",
    "    return category_ds"
   ]
  },
  {
   "cell_type": "code",
   "execution_count": 45,
   "metadata": {},
   "outputs": [],
   "source": [
    "def categories_norm (contr_ds,user_ds):\n",
    "    category_ds = user_ds.loc[:,[\"user_id\",\"diners_inicials\",'partida_id']]\n",
    "    category_ds.set_index('user_id', inplace=True)\n",
    "    #category_ds= category_ds.reindex(category_ds.loc[:,'user_id'])\n",
    "    category_ds['contr_total_norm']=contr_ds.sum(axis=1)\n",
    "    return category_ds"
   ]
  },
  {
   "cell_type": "code",
   "execution_count": 46,
   "metadata": {},
   "outputs": [],
   "source": [
    "category_ineq_dau = categories(ineq_contr_dau, ineq_user_dau)\n",
    "category_eq_dau = categories(eq_contr_dau, eq_user_dau)\n",
    "category_street = categories(contr_street,user_street)\n",
    "category_vil = categories(contr_vil, user_vil)"
   ]
  },
  {
   "cell_type": "code",
   "execution_count": 47,
   "metadata": {},
   "outputs": [],
   "source": [
    "cat_ineq_dau = categories_norm(ineq_contr_dau_norm, ineq_user_dau)\n",
    "cat_eq_dau = categories_norm(eq_contr_dau_norm, eq_user_dau)\n",
    "cat_street = categories_norm(contr_street_norm,user_street)\n",
    "cat_vil = categories_norm(contr_vil_norm, user_vil)"
   ]
  },
  {
   "cell_type": "code",
   "execution_count": 48,
   "metadata": {},
   "outputs": [],
   "source": [
    "categ_het=pd.concat([category_ineq_dau,category_street])\n",
    "categ_hom=pd.concat([category_eq_dau,category_vil])"
   ]
  },
  {
   "cell_type": "code",
   "execution_count": 49,
   "metadata": {},
   "outputs": [],
   "source": [
    "categ_het['clust_coef']=y_het\n",
    "categ_het['experiment']=heterogeneous_norm.experiment\n",
    "categ_hom['clust_coef']=y_hom2\n",
    "categ_hom['experiment']=homogeneous_norm.experiment\n",
    "\n",
    "categ_het.to_csv('dades/categ_het.csv' ,sep=',', index=True)\n",
    "categ_hom.to_csv('dades/categ_hom.csv' ,sep=',', index=True)\n",
    "\n",
    "heterogeneous_norm['clust_coef']= y_het\n",
    "heterogeneous['clust_coef']= y_het\n",
    "homogeneous_norm['clust_coef']= y_hom2\n",
    "homogeneous['clust_coef']= y_hom2"
   ]
  },
  {
   "cell_type": "markdown",
   "metadata": {},
   "source": [
    "### Cluster identification: Statistical information about clusters\n",
    "\n",
    "#### Heterogeneous games: "
   ]
  },
  {
   "cell_type": "code",
   "execution_count": 28,
   "metadata": {},
   "outputs": [],
   "source": [
    "X = heterogeneous_norm\n",
    "clust1 = X.iloc[y_het == 0]\n",
    "clust2 = X.iloc[y_het == 1]\n",
    "clust3 = X.iloc[y_het == 2]\n",
    "\n",
    "X = homogeneous_norm\n",
    "clust1 = X.iloc[y_hom == 0]\n",
    "clust2 = X.iloc[y_hom == 1]\n",
    "clust3 = X.iloc[y_hom == 2]"
   ]
  },
  {
   "cell_type": "code",
   "execution_count": 29,
   "metadata": {},
   "outputs": [
    {
     "data": {
      "text/plain": [
       "count    142.000000\n",
       "mean       0.558099\n",
       "std        0.091701\n",
       "min        0.350000\n",
       "25%        0.500000\n",
       "50%        0.550000\n",
       "75%        0.618750\n",
       "max        0.800000\n",
       "dtype: float64"
      ]
     },
     "execution_count": 29,
     "metadata": {},
     "output_type": "execute_result"
    }
   ],
   "source": [
    "#Normalized mean contribution per user:\n",
    "mean_user_c1 = clust1.iloc[:,:10].mean(axis=1)\n",
    "mean_user_c1.describe()"
   ]
  },
  {
   "cell_type": "code",
   "execution_count": 30,
   "metadata": {},
   "outputs": [
    {
     "data": {
      "text/plain": [
       "count    108.000000\n",
       "mean       0.388657\n",
       "std        0.103805\n",
       "min        0.000000\n",
       "25%        0.350000\n",
       "50%        0.400000\n",
       "75%        0.450000\n",
       "max        0.550000\n",
       "dtype: float64"
      ]
     },
     "execution_count": 30,
     "metadata": {},
     "output_type": "execute_result"
    }
   ],
   "source": [
    "mean_user_c2 = clust2.iloc[:,:10].mean(axis=1)\n",
    "mean_user_c2.describe()"
   ]
  },
  {
   "cell_type": "code",
   "execution_count": 31,
   "metadata": {},
   "outputs": [
    {
     "data": {
      "text/plain": [
       "count    92.000000\n",
       "mean      0.697826\n",
       "std       0.094829\n",
       "min       0.500000\n",
       "25%       0.625000\n",
       "50%       0.700000\n",
       "75%       0.750000\n",
       "max       0.950000\n",
       "dtype: float64"
      ]
     },
     "execution_count": 31,
     "metadata": {},
     "output_type": "execute_result"
    }
   ],
   "source": [
    "mean_user_c3 = clust3.iloc[:,:10].mean(axis=1)\n",
    "mean_user_c3.describe()"
   ]
  },
  {
   "cell_type": "code",
   "execution_count": null,
   "metadata": {},
   "outputs": [],
   "source": []
  },
  {
   "cell_type": "markdown",
   "metadata": {},
   "source": [
    "### Cluster identification: Initial endowment of each cluster"
   ]
  },
  {
   "cell_type": "code",
   "execution_count": 32,
   "metadata": {},
   "outputs": [],
   "source": [
    "din_in_c1 = categ_het[categ_het['clust_coef']==0].diners_inicials.values\n",
    "din_in_c2 = categ_het[categ_het['clust_coef']==1].diners_inicials.values\n",
    "din_in_c3 = categ_het[categ_het['clust_coef']==2].diners_inicials.values"
   ]
  },
  {
   "cell_type": "code",
   "execution_count": 33,
   "metadata": {},
   "outputs": [],
   "source": [
    "import collections, numpy\n",
    "\n",
    "def counter(din_in):\n",
    "    count_c = collections.Counter(din_in)\n",
    "    c = []\n",
    "    for key, value in count_c.items():\n",
    "        c.append(value)\n",
    "    return(c)"
   ]
  },
  {
   "cell_type": "code",
   "execution_count": 34,
   "metadata": {},
   "outputs": [],
   "source": [
    "c1 = counter(din_in_c1)\n",
    "c1.append(0)\n",
    "c2 = counter(din_in_c2)\n",
    "c3 = counter(din_in_c3)"
   ]
  },
  {
   "cell_type": "code",
   "execution_count": 35,
   "metadata": {},
   "outputs": [
    {
     "data": {
      "image/png": "[encoded data removed]",
      "text/plain": [
       "<matplotlib.figure.Figure at 0x1f17a075d30>"
      ]
     },
     "metadata": {},
     "output_type": "display_data"
    }
   ],
   "source": [
    "import numpy as np\n",
    "import matplotlib.pyplot as plt\n",
    "from matplotlib import rc\n",
    "import pandas as pd\n",
    "\n",
    "# Data\n",
    "r = [0,1,2,3,4]\n",
    "raw_data = {'cluster1': c1, 'cluster2': c2,'cluster3': c3}\n",
    "df = pd.DataFrame(raw_data)\n",
    " \n",
    "# From raw value to percentage\n",
    "totals = [i+j+k for i,j,k in zip(df['cluster1'], df['cluster2'], df['cluster3'])]\n",
    "cluster1 = [i / j * 100 for i,j in zip(df['cluster1'], totals)]\n",
    "cluster2 = [i / j * 100 for i,j in zip(df['cluster2'], totals)]\n",
    "cluster3 = [i / j * 100 for i,j in zip(df['cluster3'], totals)]\n",
    " \n",
    "# plot\n",
    "barWidth = 0.85\n",
    "names = ('20','30','40','50','60')\n",
    "# Create green Bars\n",
    "plt.bar(r, cluster1, width=barWidth, label=\"C1\", color='red', alpha = 0.8)\n",
    "# Create orange Bars\n",
    "plt.bar(r, cluster2, bottom=cluster1, width=barWidth, label=\"C2\", color='blue', alpha = 0.8)\n",
    "# Create blue Bars\n",
    "plt.bar(r, cluster3, bottom=[i+j for i,j in zip(cluster1, cluster2)], width=barWidth, label=\"C3\", color='green', alpha = 0.8)\n",
    " \n",
    "# Custom x axis\n",
    "plt.xticks(r, names)\n",
    "plt.xlabel(\"group\")\n",
    "# Add a legend\n",
    "plt.legend(loc='upper left', bbox_to_anchor=(1,1), ncol=1) \n",
    "plt.title('Initial endowment per cluster (Heterogeneous)')\n",
    "# Show graphic\n",
    "plt.show()\n",
    "\n"
   ]
  },
  {
   "cell_type": "code",
   "execution_count": 36,
   "metadata": {},
   "outputs": [],
   "source": [
    "categ_het['experiment']=heterogeneous_norm['experiment']\n",
    "## Separate Heterogeneous DAU from STREET:\n",
    "\n",
    "categ_dau = categ_het[categ_het['experiment'] == 'het_dau']\n",
    "categ_street = categ_het[categ_het['experiment'] == 'street']\n",
    "\n",
    "#Heterogeneous DAU: \n",
    "din_in_c1_d = categ_dau[categ_dau['clust_coef']==0].diners_inicials.values\n",
    "din_in_c2_d = categ_dau[categ_dau['clust_coef']==1].diners_inicials.values\n",
    "din_in_c3_d = categ_dau[categ_dau['clust_coef']==2].diners_inicials.values\n",
    "\n",
    "#STREET:\n",
    "din_in_c1_s = categ_street[categ_street['clust_coef']==0].diners_inicials.values\n",
    "din_in_c2_s = categ_street[categ_street['clust_coef']==1].diners_inicials.values\n",
    "din_in_c3_s = categ_street[categ_street['clust_coef']==2].diners_inicials.values"
   ]
  },
  {
   "cell_type": "code",
   "execution_count": 37,
   "metadata": {},
   "outputs": [],
   "source": [
    "## Function count the number of times a certain value is repeated. \n",
    "# Heterogeneous DAU:\n",
    "c1_d = counter(din_in_c1_d)\n",
    "c1_d.append(0)\n",
    "c2_d = counter(din_in_c2_d)\n",
    "c3_d = counter(din_in_c3_d)"
   ]
  },
  {
   "cell_type": "code",
   "execution_count": 38,
   "metadata": {},
   "outputs": [
    {
     "data": {
      "image/png": "[encoded data removed]",
      "text/plain": [
       "<matplotlib.figure.Figure at 0x1f17a798cf8>"
      ]
     },
     "metadata": {},
     "output_type": "display_data"
    }
   ],
   "source": [
    "import numpy as np\n",
    "import matplotlib.pyplot as plt\n",
    "from matplotlib import rc\n",
    "import pandas as pd\n",
    "\n",
    "# Data\n",
    "r = [0,1,2,3,4]\n",
    "raw_data = {'cluster1': c1_d, 'cluster2': c2_d,'cluster3': c3_d}\n",
    "df = pd.DataFrame(raw_data)\n",
    " \n",
    "# From raw value to percentage\n",
    "totals = [i+j+k for i,j,k in zip(df['cluster1'], df['cluster2'], df['cluster3'])]\n",
    "cluster1 = [i / j * 100 for i,j in zip(df['cluster1'], totals)]\n",
    "cluster2 = [i / j * 100 for i,j in zip(df['cluster2'], totals)]\n",
    "cluster3 = [i / j * 100 for i,j in zip(df['cluster3'], totals)]\n",
    " \n",
    "# plot\n",
    "barWidth = 0.85\n",
    "names = ('20','30','40','50','60')\n",
    "# Create green Bars\n",
    "plt.bar(r, cluster1, width=barWidth, label=\"C1\", color='red', alpha = 0.8)\n",
    "# Create orange Bars\n",
    "plt.bar(r, cluster2, bottom=cluster1, width=barWidth, label=\"C2\", color='blue', alpha = 0.8)\n",
    "# Create blue Bars\n",
    "plt.bar(r, cluster3, bottom=[i+j for i,j in zip(cluster1, cluster2)], \n",
    "        width=barWidth, label=\"C3\", color='green', alpha = 0.8)\n",
    " \n",
    "# Custom x axis\n",
    "plt.xticks(r, names)\n",
    "plt.xlabel(\"group\")\n",
    "# Add a legend\n",
    "plt.legend(loc='upper left', bbox_to_anchor=(1,1), ncol=1) \n",
    "plt.title('Initial endowment per cluster (Heterogeneous DAU)')\n",
    "# Show graphic\n",
    "plt.show()\n"
   ]
  },
  {
   "cell_type": "code",
   "execution_count": 39,
   "metadata": {},
   "outputs": [],
   "source": [
    "## Function count the number of times a certain value is repeated. \n",
    "# STREET:\n",
    "c1_s = counter(din_in_c1_s)\n",
    "c1_s.append(0)\n",
    "c1_s.append(0)\n",
    "c2_s = counter(din_in_c2_s)\n",
    "c3_s = counter(din_in_c3_s)"
   ]
  },
  {
   "cell_type": "code",
   "execution_count": 40,
   "metadata": {},
   "outputs": [
    {
     "data": {
      "image/png": "[encoded data removed]",
      "text/plain": [
       "<matplotlib.figure.Figure at 0x1f17a614748>"
      ]
     },
     "metadata": {},
     "output_type": "display_data"
    }
   ],
   "source": [
    "import numpy as np\n",
    "import matplotlib.pyplot as plt\n",
    "from matplotlib import rc\n",
    "import pandas as pd\n",
    "\n",
    "# Data\n",
    "r = [0,1,2,3,4]\n",
    "raw_data = {'cluster1': c1_s, 'cluster2': c2_s,'cluster3': c3_s}\n",
    "df = pd.DataFrame(raw_data)\n",
    " \n",
    "# From raw value to percentage\n",
    "totals = [i+j+k for i,j,k in zip(df['cluster1'], df['cluster2'], df['cluster3'])]\n",
    "cluster1 = [i / j * 100 for i,j in zip(df['cluster1'], totals)]\n",
    "cluster2 = [i / j * 100 for i,j in zip(df['cluster2'], totals)]\n",
    "cluster3 = [i / j * 100 for i,j in zip(df['cluster3'], totals)]\n",
    " \n",
    "# plot\n",
    "barWidth = 0.85\n",
    "names = ('20','30','40','50','60')\n",
    "# Create green Bars\n",
    "plt.bar(r, cluster1, width=barWidth, label=\"C1\", color='red', alpha = 0.8)\n",
    "# Create orange Bars\n",
    "plt.bar(r, cluster2, bottom=cluster1, width=barWidth, label=\"C2\", color='blue', alpha = 0.8)\n",
    "# Create blue Bars\n",
    "plt.bar(r, cluster3, bottom=[i+j for i,j in zip(cluster1, cluster2)], width=barWidth, label=\"C3\", color='green', alpha = 0.8)\n",
    " \n",
    "# Custom x axis\n",
    "plt.xticks(r, names)\n",
    "plt.xlabel(\"group\")\n",
    "# Add a legend\n",
    "plt.legend(loc='upper left', bbox_to_anchor=(1,1), ncol=1) \n",
    "plt.title('Initial endowment per cluster (STREET)')\n",
    "# Show graphic\n",
    "plt.show()\n"
   ]
  },
  {
   "cell_type": "code",
   "execution_count": null,
   "metadata": {},
   "outputs": [],
   "source": []
  },
  {
   "cell_type": "markdown",
   "metadata": {},
   "source": [
    "### Cluster identification: tcontr/endowment, mean contribution\n",
    "\n",
    "#### Heterogeneous games:"
   ]
  },
  {
   "cell_type": "code",
   "execution_count": 41,
   "metadata": {},
   "outputs": [],
   "source": [
    "X = heterogeneous_norm\n",
    "clust1 = X.iloc[y_het == 0]\n",
    "clust2 = X.iloc[y_het == 1]\n",
    "clust3 = X.iloc[y_het == 2]\n",
    "\n",
    "contr_1 = ineq_contr_dau[ineq_contr_dau.index.isin(clust1[clust1.experiment=='het_dau'].index)]\n",
    "contr_2 = contr_street[contr_street.index.isin(clust1[clust1.experiment=='street'].index)]\n",
    "contr_het_1 = pd.concat([contr_1,contr_2])\n",
    "\n",
    "user_1 = ineq_user_dau[ineq_user_dau.user_id.isin(clust1[clust1.experiment=='het_dau'].index)]\n",
    "user_2 = user_street[user_street.user_id.isin(clust1[clust1.experiment=='street'].index)]\n",
    "user_het_1 = pd.concat([user_1,user_2])\n",
    "\n",
    "c1_het = categories(contr_het_1,user_het_1)\n",
    "\n",
    "contr_1 = ineq_contr_dau[ineq_contr_dau.index.isin(clust2[clust2.experiment=='het_dau'].index)]\n",
    "contr_2 = contr_street[contr_street.index.isin(clust2[clust2.experiment=='street'].index)]\n",
    "contr_het_2 = pd.concat([contr_1,contr_2])\n",
    "\n",
    "user_1 = ineq_user_dau[ineq_user_dau.user_id.isin(clust2[clust2.experiment=='het_dau'].index)]\n",
    "user_2 = user_street[user_street.user_id.isin(clust2[clust2.experiment=='street'].index)]\n",
    "user_het_2 = pd.concat([user_1,user_2])\n",
    "\n",
    "c2_het = categories(contr_het_2,user_het_2)\n",
    "\n",
    "contr_1 = ineq_contr_dau[ineq_contr_dau.index.isin(clust3[clust3.experiment=='het_dau'].index)]\n",
    "contr_2 = contr_street[contr_street.index.isin(clust3[clust3.experiment=='street'].index)]\n",
    "contr_het_3 = pd.concat([contr_1,contr_2])\n",
    "\n",
    "user_1 = ineq_user_dau[ineq_user_dau.user_id.isin(clust3[clust3.experiment=='het_dau'].index)]\n",
    "user_2 = user_street[user_street.user_id.isin(clust3[clust3.experiment=='street'].index)]\n",
    "user_het_3 = pd.concat([user_1,user_2])\n",
    "\n",
    "c3_het = categories(contr_het_3,user_het_3)"
   ]
  },
  {
   "cell_type": "code",
   "execution_count": 49,
   "metadata": {},
   "outputs": [
    {
     "data": {
      "image/png": "[encoded data removed]",
      "text/plain": [
       "<matplotlib.figure.Figure at 0x1804c1832b0>"
      ]
     },
     "metadata": {},
     "output_type": "display_data"
    }
   ],
   "source": [
    "bins = np.linspace(0, 1, 20)\n",
    "\n",
    "plt.hist(c1_het['contr/budget'], bins, alpha=0.5,density = True, label='C1', color = 'red')\n",
    "plt.hist(c2_het['contr/budget'], bins, alpha=0.5,density = True, label='C2', color='blue')\n",
    "plt.hist(c3_het['contr/budget'], bins, alpha=0.5,density = True, label='C3', color='green')\n",
    "#plt.hist(categ_hom['contr/budget'], bins, alpha=0.4,density = True, label='Homogeneous')\n",
    "plt.xlabel(\"Total contribution / Endowment\")\n",
    "plt.ylabel(\"Density\")\n",
    "plt.legend(loc='upper left')\n",
    "plt.title('Total contribution ratio (heterogeneous) histogram')\n",
    "plt.show()\n",
    "\n"
   ]
  },
  {
   "cell_type": "code",
   "execution_count": 50,
   "metadata": {},
   "outputs": [
    {
     "data": {
      "image/png": "[encoded data removed]",
      "text/plain": [
       "<matplotlib.figure.Figure at 0x1804c40d2e8>"
      ]
     },
     "metadata": {},
     "output_type": "display_data"
    }
   ],
   "source": [
    "bins = np.linspace(0, 1, 20)\n",
    "\n",
    "plt.hist(c1_het['contr/budget'], bins, alpha=0.4,density = True, cumulative=True,histtype='step',rwidth =50, label='C1', color = 'red')\n",
    "plt.hist(c2_het['contr/budget'], bins, alpha=0.4,density = True, cumulative=True,histtype='step', label='C2', color='blue')\n",
    "plt.hist(c3_het['contr/budget'], bins, alpha=0.4,density = True, cumulative=True,histtype='step', label='C3', color= 'green')\n",
    "#plt.hist(categ_hom['contr/budget'], bins, alpha=0.4,density = True, label='Homogeneous')\n",
    "plt.xlabel(\"Total contribution / Endowment\")\n",
    "plt.ylabel(\"Accum. Density\")\n",
    "plt.legend(loc='upper left')\n",
    "plt.title('Total contribution ratio (heterogeneous) cdf')\n",
    "plt.show()"
   ]
  },
  {
   "cell_type": "code",
   "execution_count": 44,
   "metadata": {},
   "outputs": [
    {
     "data": {
      "image/png": "[encoded data removed]",
      "text/plain": [
       "<matplotlib.figure.Figure at 0x1804be45748>"
      ]
     },
     "metadata": {},
     "output_type": "display_data"
    }
   ],
   "source": [
    "bins = np.linspace(0,4, 20)\n",
    "\n",
    "plt.hist(c1_het['mean_contr'], bins, alpha=0.4,density = True, label='C1', color = 'red')\n",
    "plt.hist(c2_het['mean_contr'], bins, alpha=0.4,density = True, label='C2', color='blue')\n",
    "plt.hist(c3_het['mean_contr'], bins, alpha=0.4,density = True, label='C3', color='green')\n",
    "#plt.hist(categ_hom['contr/budget'], bins, alpha=0.4,density = True, label='Homogeneous')\n",
    "plt.xlabel(\"Mean Contribution\")\n",
    "plt.ylabel(\"Density\")\n",
    "plt.legend(loc='upper right')\n",
    "plt.title('Mean contribution (heterogeneous) histogram')\n",
    "plt.show()"
   ]
  },
  {
   "cell_type": "code",
   "execution_count": 45,
   "metadata": {},
   "outputs": [
    {
     "data": {
      "image/png": "[encoded data removed]",
      "text/plain": [
       "<matplotlib.figure.Figure at 0x1804b8e5ac8>"
      ]
     },
     "metadata": {},
     "output_type": "display_data"
    }
   ],
   "source": [
    "bins = np.linspace(0, 4, 20)\n",
    "\n",
    "plt.hist(c1_het['mean_contr'], bins, alpha=0.4,density = True, cumulative=True,histtype='step', label='C1', color ='red')\n",
    "plt.hist(c2_het['mean_contr'], bins, alpha=0.4,density = True, cumulative=True,histtype='step', label='C2', color='blue')\n",
    "plt.hist(c3_het['mean_contr'], bins, alpha=0.4,density = True, cumulative=True,histtype='step', label='C3', color='green')\n",
    "#plt.hist(categ_hom['contr/budget'], bins, alpha=0.4,density = True, label='Homogeneous')\n",
    "plt.xlabel(\"Mean Contribution\")\n",
    "plt.ylabel(\"Accum. Density\")\n",
    "plt.legend(loc='upper left')\n",
    "plt.title('Mean contribution (heterogeneous) cdf')\n",
    "plt.show()"
   ]
  },
  {
   "cell_type": "markdown",
   "metadata": {},
   "source": [
    "## Homogeneous cluster "
   ]
  },
  {
   "cell_type": "code",
   "execution_count": 46,
   "metadata": {},
   "outputs": [],
   "source": [
    "X = homogeneous_norm\n",
    "clust1 = X.iloc[y_hom == 0]\n",
    "clust2 = X.iloc[y_hom == 1]\n",
    "clust3 = X.iloc[y_hom == 2]\n",
    "\n",
    "contr_1 = ineq_contr_dau[ineq_contr_dau.index.isin(clust1[clust1.experiment=='hom_dau'].index)]\n",
    "contr_2 = contr_street[contr_street.index.isin(clust1[clust1.experiment=='vil'].index)]\n",
    "contr_hom_1 = pd.concat([contr_1,contr_2])\n",
    "\n",
    "user_1 = ineq_user_dau[ineq_user_dau.user_id.isin(clust1[clust1.experiment=='hom_dau'].index)]\n",
    "user_2 = user_street[user_street.user_id.isin(clust1[clust1.experiment=='vil'].index)]\n",
    "user_hom_1 = pd.concat([user_1,user_2])\n",
    "\n",
    "c1_hom = categories(contr_hom_1,user_hom_1)\n",
    "\n",
    "contr_1 = ineq_contr_dau[ineq_contr_dau.index.isin(clust2[clust2.experiment=='hom_dau'].index)]\n",
    "contr_2 = contr_street[contr_street.index.isin(clust2[clust2.experiment=='vil'].index)]\n",
    "contr_hom_2 = pd.concat([contr_1,contr_2])\n",
    "\n",
    "user_1 = ineq_user_dau[ineq_user_dau.user_id.isin(clust2[clust2.experiment=='hom_dau'].index)]\n",
    "user_2 = user_street[user_street.user_id.isin(clust2[clust2.experiment=='vil'].index)]\n",
    "user_hom_2 = pd.concat([user_1,user_2])\n",
    "\n",
    "c2_hom = categories(contr_hom_2,user_hom_2)\n",
    "\n",
    "contr_1 = ineq_contr_dau[ineq_contr_dau.index.isin(clust3[clust3.experiment=='hom_dau'].index)]\n",
    "contr_2 = contr_street[contr_street.index.isin(clust3[clust3.experiment=='vil'].index)]\n",
    "contr_hom_3 = pd.concat([contr_1,contr_2])\n",
    "\n",
    "user_1 = ineq_user_dau[ineq_user_dau.user_id.isin(clust3[clust3.experiment=='hom_dau'].index)]\n",
    "user_2 = user_street[user_street.user_id.isin(clust3[clust3.experiment=='vil'].index)]\n",
    "user_hom_3 = pd.concat([user_1,user_2])\n",
    "\n",
    "c3_hom = categories(contr_hom_3,user_hom_3)"
   ]
  },
  {
   "cell_type": "code",
   "execution_count": 52,
   "metadata": {},
   "outputs": [
    {
     "data": {
      "image/png": "[encoded data removed]",
      "text/plain": [
       "<matplotlib.figure.Figure at 0x1804d56fd68>"
      ]
     },
     "metadata": {},
     "output_type": "display_data"
    }
   ],
   "source": [
    "bins = np.linspace(0, 1, 20)\n",
    "\n",
    "plt.hist(c1_hom['contr/budget'], bins, alpha=0.4,density = True, label='C1', color ='red')\n",
    "plt.hist(c2_hom['contr/budget'], bins, alpha=0.4,density = True, label='C2', color='blue')\n",
    "plt.hist(c3_hom['contr/budget'], bins, alpha=0.4,density = True, label='C3', color='green')\n",
    "#plt.hist(categ_hom['contr/budget'], bins, alpha=0.4,density = True, label='Homogeneous')\n",
    "plt.xlabel(\"Total contribution / Endowment\")\n",
    "plt.ylabel(\"Density\")\n",
    "plt.legend(loc='upper left')\n",
    "plt.title('Total contribution ratio (homogeneous) histogram')\n",
    "plt.show()"
   ]
  },
  {
   "cell_type": "code",
   "execution_count": 53,
   "metadata": {},
   "outputs": [
    {
     "data": {
      "image/png": "[encoded data removed]",
      "text/plain": [
       "<matplotlib.figure.Figure at 0x1804d49ecf8>"
      ]
     },
     "metadata": {},
     "output_type": "display_data"
    }
   ],
   "source": [
    "bins = np.linspace(0, 1, 20)\n",
    "\n",
    "plt.hist(c1_hom['contr/budget'], bins, alpha=0.4,density = True, cumulative=True,histtype='step', label='C1', color ='red')\n",
    "plt.hist(c2_hom['contr/budget'], bins, alpha=0.4,density = True, cumulative=True,histtype='step', label='C2', color='blue')\n",
    "plt.hist(c3_hom['contr/budget'], bins, alpha=0.4,density = True, cumulative=True,histtype='step', label='C3', color='green')\n",
    "#plt.hist(categ_hom['contr/budget'], bins, alpha=0.4,density = True, label='Homogeneous')\n",
    "plt.xlabel(\"Total contribution / Endowment\")\n",
    "plt.ylabel(\"Accum. Density\")\n",
    "plt.legend(loc='upper left')\n",
    "plt.title('Total contribution ratio (homogeneous) cdf')\n",
    "plt.show()"
   ]
  },
  {
   "cell_type": "code",
   "execution_count": 51,
   "metadata": {},
   "outputs": [],
   "source": [
    "X = homogeneous_norm\n",
    "clust1 = X.iloc[y_hom2 == 0]\n",
    "clust2 = X.iloc[y_hom2 == 1]\n",
    "\n",
    "\n",
    "contr_1 = ineq_contr_dau[ineq_contr_dau.index.isin(clust1[clust1.experiment=='hom_dau'].index)]\n",
    "contr_2 = contr_street[contr_street.index.isin(clust1[clust1.experiment=='vil'].index)]\n",
    "contr_hom_1 = pd.concat([contr_1,contr_2])\n",
    "\n",
    "user_1 = ineq_user_dau[ineq_user_dau.user_id.isin(clust1[clust1.experiment=='hom_dau'].index)]\n",
    "user_2 = user_street[user_street.user_id.isin(clust1[clust1.experiment=='vil'].index)]\n",
    "user_hom_1 = pd.concat([user_1,user_2])\n",
    "\n",
    "c1_hom = categories(contr_hom_1,user_hom_1)\n",
    "\n",
    "contr_1 = ineq_contr_dau[ineq_contr_dau.index.isin(clust2[clust2.experiment=='hom_dau'].index)]\n",
    "contr_2 = contr_street[contr_street.index.isin(clust2[clust2.experiment=='vil'].index)]\n",
    "contr_hom_2 = pd.concat([contr_1,contr_2])\n",
    "\n",
    "user_1 = ineq_user_dau[ineq_user_dau.user_id.isin(clust2[clust2.experiment=='hom_dau'].index)]\n",
    "user_2 = user_street[user_street.user_id.isin(clust2[clust2.experiment=='vil'].index)]\n",
    "user_hom_2 = pd.concat([user_1,user_2])\n",
    "\n",
    "c2_hom = categories(contr_hom_2,user_hom_2)"
   ]
  },
  {
   "cell_type": "code",
   "execution_count": 54,
   "metadata": {},
   "outputs": [
    {
     "data": {
      "image/png": "[encoded data removed]",
      "text/plain": [
       "<matplotlib.figure.Figure at 0x1804c40fdd8>"
      ]
     },
     "metadata": {},
     "output_type": "display_data"
    }
   ],
   "source": [
    "bins = np.linspace(0, 1, 20)\n",
    "\n",
    "plt.hist(c1_hom['contr/budget'], bins, alpha=0.4,density = True, label='C1', color = 'red')\n",
    "plt.hist(c2_hom['contr/budget'], bins, alpha=0.4,density = True, label='C2', color = 'blue')\n",
    "#plt.hist(c3_hom['contr/budget'], bins, alpha=0.4,density = True, label='cluster3')\n",
    "#plt.hist(categ_hom['contr/budget'], bins, alpha=0.4,density = True, label='Homogeneous')\n",
    "plt.xlabel(\"Total contribution / Endowment\")\n",
    "plt.ylabel(\"Density\")\n",
    "plt.legend(loc='upper left')\n",
    "plt.title('Total contribution ratio (homogeneous) pdf')\n",
    "plt.show()"
   ]
  },
  {
   "cell_type": "code",
   "execution_count": 55,
   "metadata": {},
   "outputs": [
    {
     "data": {
      "image/png": "[encoded data removed]",
      "text/plain": [
       "<matplotlib.figure.Figure at 0x1804bee5da0>"
      ]
     },
     "metadata": {},
     "output_type": "display_data"
    }
   ],
   "source": [
    "bins = np.linspace(0, 1, 20)\n",
    "\n",
    "plt.hist(c1_hom['contr/budget'], bins, alpha=0.4,density = True, cumulative=True,histtype='step', label='C1', color = 'red')\n",
    "plt.hist(c2_hom['contr/budget'], bins, alpha=0.4,density = True, cumulative=True,histtype='step', label='C2', color = 'blue')\n",
    "#plt.hist(c3_hom['contr/budget'], bins, alpha=0.4,density = True, cumulative=True,histtype='step', label='cluster3')\n",
    "#plt.hist(categ_hom['contr/budget'], bins, alpha=0.4,density = True, label='Homogeneous')\n",
    "plt.xlabel(\"Total contribution / Endowment\")\n",
    "plt.ylabel(\"Accum. Density\")\n",
    "plt.legend(loc='upper left')\n",
    "plt.title('Total contribution ratio (homogeneous) cdf')\n",
    "plt.show()"
   ]
  },
  {
   "cell_type": "markdown",
   "metadata": {},
   "source": []
  },
  {
   "cell_type": "code",
   "execution_count": 57,
   "metadata": {},
   "outputs": [
    {
     "data": {
      "text/html": [
       "<div>\n",
       "<style>\n",
       "    .dataframe thead tr:only-child th {\n",
       "        text-align: right;\n",
       "    }\n",
       "\n",
       "    .dataframe thead th {\n",
       "        text-align: left;\n",
       "    }\n",
       "\n",
       "    .dataframe tbody tr th {\n",
       "        vertical-align: top;\n",
       "    }\n",
       "</style>\n",
       "<table border=\"1\" class=\"dataframe\">\n",
       "  <thead>\n",
       "    <tr style=\"text-align: right;\">\n",
       "      <th></th>\n",
       "      <th>diners_inicials</th>\n",
       "      <th>partida_id</th>\n",
       "      <th>contr_total</th>\n",
       "      <th>mean_contr</th>\n",
       "      <th>contr/budget</th>\n",
       "      <th>category4</th>\n",
       "      <th>clust_coef</th>\n",
       "    </tr>\n",
       "    <tr>\n",
       "      <th>user_id</th>\n",
       "      <th></th>\n",
       "      <th></th>\n",
       "      <th></th>\n",
       "      <th></th>\n",
       "      <th></th>\n",
       "      <th></th>\n",
       "      <th></th>\n",
       "    </tr>\n",
       "  </thead>\n",
       "  <tbody>\n",
       "    <tr>\n",
       "      <th>5</th>\n",
       "      <td>30</td>\n",
       "      <td>2</td>\n",
       "      <td>20</td>\n",
       "      <td>2.0</td>\n",
       "      <td>0.666667</td>\n",
       "      <td>2</td>\n",
       "      <td>2</td>\n",
       "    </tr>\n",
       "    <tr>\n",
       "      <th>9</th>\n",
       "      <td>20</td>\n",
       "      <td>2</td>\n",
       "      <td>20</td>\n",
       "      <td>2.0</td>\n",
       "      <td>1.000000</td>\n",
       "      <td>3</td>\n",
       "      <td>0</td>\n",
       "    </tr>\n",
       "    <tr>\n",
       "      <th>10</th>\n",
       "      <td>40</td>\n",
       "      <td>2</td>\n",
       "      <td>30</td>\n",
       "      <td>3.0</td>\n",
       "      <td>0.750000</td>\n",
       "      <td>3</td>\n",
       "      <td>2</td>\n",
       "    </tr>\n",
       "    <tr>\n",
       "      <th>11</th>\n",
       "      <td>40</td>\n",
       "      <td>2</td>\n",
       "      <td>38</td>\n",
       "      <td>3.8</td>\n",
       "      <td>0.950000</td>\n",
       "      <td>3</td>\n",
       "      <td>2</td>\n",
       "    </tr>\n",
       "    <tr>\n",
       "      <th>12</th>\n",
       "      <td>60</td>\n",
       "      <td>2</td>\n",
       "      <td>35</td>\n",
       "      <td>3.5</td>\n",
       "      <td>0.583333</td>\n",
       "      <td>2</td>\n",
       "      <td>1</td>\n",
       "    </tr>\n",
       "  </tbody>\n",
       "</table>\n",
       "</div>"
      ],
      "text/plain": [
       "         diners_inicials  partida_id  contr_total  mean_contr  contr/budget  \\\n",
       "user_id                                                                       \n",
       "5                     30           2           20         2.0      0.666667   \n",
       "9                     20           2           20         2.0      1.000000   \n",
       "10                    40           2           30         3.0      0.750000   \n",
       "11                    40           2           38         3.8      0.950000   \n",
       "12                    60           2           35         3.5      0.583333   \n",
       "\n",
       "         category4  clust_coef  \n",
       "user_id                         \n",
       "5                2           2  \n",
       "9                3           0  \n",
       "10               3           2  \n",
       "11               3           2  \n",
       "12               2           1  "
      ]
     },
     "execution_count": 57,
     "metadata": {},
     "output_type": "execute_result"
    }
   ],
   "source": [
    "categ_het.head()"
   ]
  },
  {
   "cell_type": "code",
   "execution_count": 56,
   "metadata": {},
   "outputs": [
    {
     "data": {
      "text/plain": [
       "ronda_id\n",
       "1     0.926797\n",
       "2     1.157190\n",
       "3     1.240523\n",
       "4     1.134314\n",
       "5     1.057516\n",
       "6     0.881046\n",
       "7     0.736601\n",
       "8     0.386275\n",
       "9     0.325163\n",
       "10    0.058824\n",
       "dtype: float64"
      ]
     },
     "execution_count": 56,
     "metadata": {},
     "output_type": "execute_result"
    }
   ],
   "source": [
    "heterogeneous_norm[heterogeneous_norm['clust_coef']==0].iloc[:,:10].mean(axis=0)"
   ]
  },
  {
   "cell_type": "markdown",
   "metadata": {},
   "source": [
    "## Evolution of the clusters:\n",
    "\n",
    "### A) Mean contribution of each cluster per round\n",
    "\n",
    "#### Heterogeneous games:"
   ]
  },
  {
   "cell_type": "code",
   "execution_count": 96,
   "metadata": {},
   "outputs": [
    {
     "data": {
      "text/plain": [
       "array([ 0.06543316,  0.06431854,  0.05529335,  0.07040253,  0.06286603,\n",
       "        0.06608409,  0.06491325,  0.06369984,  0.06700303,  0.02674153])"
      ]
     },
     "execution_count": 96,
     "metadata": {},
     "output_type": "execute_result"
    }
   ],
   "source": [
    "from scipy import stats\n",
    "stats.sem(heterogeneous_norm[heterogeneous_norm['clust_coef']==0].iloc[:,:10])"
   ]
  },
  {
   "cell_type": "code",
   "execution_count": 97,
   "metadata": {},
   "outputs": [
    {
     "data": {
      "image/png": "[encoded data removed]",
      "text/plain": [
       "<matplotlib.figure.Figure at 0x1ed659d32e8>"
      ]
     },
     "metadata": {},
     "output_type": "display_data"
    }
   ],
   "source": [
    "\n",
    "\n",
    "## Creation of new arrays: \n",
    "## a) mean contribution per round of each cluster\n",
    "mean_het_c1 = heterogeneous_norm[heterogeneous_norm['clust_coef']==0].iloc[:,:10].mean(axis=0)\n",
    "mean_het_c2 = heterogeneous_norm[heterogeneous_norm['clust_coef']==1].iloc[:,:10].mean(axis=0)\n",
    "mean_het_c3 = heterogeneous_norm[heterogeneous_norm['clust_coef']==2].iloc[:,:10].mean(axis=0)\n",
    "## b) standard deviation per round of each cluster\n",
    "sigma_het_c1 = heterogeneous_norm[heterogeneous_norm['clust_coef']==0].iloc[:,:10].std(axis=0)\n",
    "sigma_het_c2 = heterogeneous_norm[heterogeneous_norm['clust_coef']==1].iloc[:,:10].std(axis=0)\n",
    "sigma_het_c3 = heterogeneous_norm[heterogeneous_norm['clust_coef']==2].iloc[:,:10].std(axis=0)\n",
    "## c) standard error per round:\n",
    "se_het_c1 = stats.sem(heterogeneous_norm[heterogeneous_norm['clust_coef']==0].iloc[:,:10])\n",
    "se_het_c2 = stats.sem(heterogeneous_norm[heterogeneous_norm['clust_coef']==1].iloc[:,:10])\n",
    "se_het_c3 = stats.sem(heterogeneous_norm[heterogeneous_norm['clust_coef']==2].iloc[:,:10])\n",
    "\n",
    "#Plot\n",
    "fig = plt.figure()\n",
    "ax = plt.axes()\n",
    "\n",
    "x = np.linspace(1, 10, 10)\n",
    "ax.plot(x, mean_het_c1,label=\"C1\", c = \"red\")\n",
    "ax.errorbar(x, mean_het_c1, yerr=se_het_c1 , c = 'red')\n",
    "ax.plot(x, mean_het_c2,label=\"C2\", c = 'blue')\n",
    "ax.errorbar(x, mean_het_c2, yerr=se_het_c2 , c = 'blue')\n",
    "ax.plot(x, mean_het_c3,label=\"C3\", c = 'green')\n",
    "ax.errorbar(x, mean_het_c3, yerr=se_het_c3, c = '#fe9929' )\n",
    "\n",
    "plt.xlabel('Round')\n",
    "plt.ylabel('Normalized mean contribution')\n",
    "plt.title('Heterogeneous games')\n",
    "plt.legend()\n",
    "plt.show()\n",
    "\n",
    "#heterogeneous_norm[heterogeneous_norm['clust_coef']==0].iloc[:,:10].mean(axis=0)"
   ]
  },
  {
   "cell_type": "code",
   "execution_count": 98,
   "metadata": {},
   "outputs": [
    {
     "data": {
      "image/png": "[encoded data removed]",
      "text/plain": [
       "<matplotlib.figure.Figure at 0x1ed639a5be0>"
      ]
     },
     "metadata": {},
     "output_type": "display_data"
    }
   ],
   "source": [
    "fig = plt.figure()\n",
    "ax = plt.axes()\n",
    "\n",
    "x = np.linspace(1, 10, 10)\n",
    "ax.plot(x, mean_het_c1,label=\"C1\")\n",
    "ax.plot(x, mean_het_c2,label=\"C2\")\n",
    "ax.plot(x, mean_het_c3,label=\"C3\")\n",
    "ax.fill_between(x, mean_het_c1+se_het_c1, mean_het_c1-se_het_c1, facecolor='blue', alpha=0.2)\n",
    "ax.fill_between(x, mean_het_c1+se_het_c2, mean_het_c2-se_het_c2, facecolor='orange', alpha=0.2)\n",
    "ax.fill_between(x, mean_het_c1+se_het_c3, mean_het_c3-se_het_c3, facecolor='green', alpha=0.2)\n",
    "\n",
    "plt.xlabel('Round')\n",
    "plt.ylabel('Mean contribution')\n",
    "plt.legend()\n",
    "plt.show()\n",
    "\n",
    "#Seems not a good option to visualize this data. "
   ]
  },
  {
   "cell_type": "markdown",
   "metadata": {},
   "source": [
    "#### Homogeneous games: \n",
    "Assumed K = 2 is the optimal number of clusters"
   ]
  },
  {
   "cell_type": "code",
   "execution_count": 99,
   "metadata": {},
   "outputs": [
    {
     "data": {
      "image/png": "[encoded data removed]",
      "text/plain": [
       "<matplotlib.figure.Figure at 0x1ed657693c8>"
      ]
     },
     "metadata": {},
     "output_type": "display_data"
    }
   ],
   "source": [
    "mean_hom_c1 = homogeneous_norm[homogeneous_norm['clust_coef']==0].iloc[:,:10].mean(axis=0)\n",
    "mean_hom_c2 = homogeneous_norm[homogeneous_norm['clust_coef']==1].iloc[:,:10].mean(axis=0)\n",
    "#mean_hom_c3 = homogeneous_norm[homogeneous_norm['clust_coef']==2].iloc[:,:10].mean(axis=0)\n",
    "\n",
    "sigma_hom_c1 = homogeneous_norm[homogeneous_norm['clust_coef']==0].iloc[:,:10].std(axis=0)\n",
    "sigma_hom_c2 = homogeneous_norm[homogeneous_norm['clust_coef']==1].iloc[:,:10].std(axis=0)\n",
    "#sigma_hom_c3 = homogeneous_norm[homogeneous_norm['clust_coef']==2].iloc[:,:10].std(axis=0)\n",
    "\n",
    "se_hom_c1 = stats.sem(homogeneous_norm[homogeneous_norm['clust_coef']==0].iloc[:,:10])\n",
    "se_hom_c2 = stats.sem(homogeneous_norm[homogeneous_norm['clust_coef']==1].iloc[:,:10])\n",
    "\n",
    "#Plot\n",
    "fig = plt.figure()\n",
    "ax = plt.axes()\n",
    "\n",
    "x = np.linspace(1, 10, 10)\n",
    "ax.plot(x, mean_hom_c1,label=\"C1\", c = \"red\")\n",
    "ax.errorbar(x, mean_hom_c1, yerr=se_hom_c1 , c = 'red')\n",
    "ax.plot(x, mean_hom_c2,label=\"C2\", c = 'blue')\n",
    "ax.errorbar(x, mean_hom_c2, yerr=se_hom_c2 , c = 'blue')\n",
    "\n",
    "plt.xlabel('Round')\n",
    "plt.ylabel('Normalized mean contribution')\n",
    "plt.title('Homogeneous games')\n",
    "plt.legend()\n",
    "plt.show()\n",
    "\n",
    "#heterogeneous_norm[heterogeneous_norm['clust_coef']==0].iloc[:,:10].mean(axis=0)"
   ]
  },
  {
   "cell_type": "markdown",
   "metadata": {},
   "source": [
    "### Categories for each cluster: \n",
    "\n",
    "#### Heterogeneous:"
   ]
  },
  {
   "cell_type": "code",
   "execution_count": 41,
   "metadata": {},
   "outputs": [
    {
     "data": {
      "text/plain": [
       "clust_coef  category4\n",
       "0           2            23\n",
       "            3            28\n",
       "1           0            12\n",
       "            1            89\n",
       "            2            51\n",
       "2           2            34\n",
       "            3            33\n",
       "Name: category4, dtype: int64"
      ]
     },
     "execution_count": 41,
     "metadata": {},
     "output_type": "execute_result"
    }
   ],
   "source": [
    "#Table of frequencies of each cluster per game. \n",
    "#categ_het[categ_het['experiment']=='het_dau'].groupby(['partida_id'])['clust_coef'].value_counts().sort_index()\n",
    "categ_het.groupby(['clust_coef'])['category4'].value_counts().sort_index()"
   ]
  },
  {
   "cell_type": "code",
   "execution_count": 50,
   "metadata": {},
   "outputs": [
    {
     "data": {
      "text/plain": [
       "clust_coef  category\n",
       "0           1            16\n",
       "            2            35\n",
       "1           0            29\n",
       "            1           122\n",
       "            2             1\n",
       "2           1            20\n",
       "            2            47\n",
       "Name: category, dtype: int64"
      ]
     },
     "execution_count": 50,
     "metadata": {},
     "output_type": "execute_result"
    }
   ],
   "source": [
    "#Table of frequencies of each cluster per game. \n",
    "#categ_het[categ_het['experiment']=='het_dau'].groupby(['partida_id'])['clust_coef'].value_counts().sort_index()\n",
    "categ_het.groupby(['clust_coef'])['category'].value_counts().sort_index()"
   ]
  },
  {
   "cell_type": "code",
   "execution_count": 32,
   "metadata": {},
   "outputs": [
    {
     "data": {
      "text/plain": [
       "0     29\n",
       "1    158\n",
       "2     83\n",
       "Name: category, dtype: int64"
      ]
     },
     "execution_count": 32,
     "metadata": {},
     "output_type": "execute_result"
    }
   ],
   "source": [
    "categ_het['category'].value_counts().sort_index()"
   ]
  },
  {
   "cell_type": "markdown",
   "metadata": {},
   "source": [
    "#### Homogeneous:"
   ]
  },
  {
   "cell_type": "code",
   "execution_count": 30,
   "metadata": {},
   "outputs": [
    {
     "data": {
      "text/plain": [
       "clust_coef  category\n",
       "0           0            24\n",
       "            1           161\n",
       "            2             1\n",
       "1           1            83\n",
       "            2            73\n",
       "Name: category, dtype: int64"
      ]
     },
     "execution_count": 30,
     "metadata": {},
     "output_type": "execute_result"
    }
   ],
   "source": [
    "categ_hom.groupby(['clust_coef'])['category'].value_counts().sort_index()"
   ]
  },
  {
   "cell_type": "code",
   "execution_count": 31,
   "metadata": {},
   "outputs": [
    {
     "data": {
      "text/plain": [
       "0     24\n",
       "1    244\n",
       "2     74\n",
       "Name: category, dtype: int64"
      ]
     },
     "execution_count": 31,
     "metadata": {},
     "output_type": "execute_result"
    }
   ],
   "source": [
    "categ_hom['category'].value_counts().sort_index()"
   ]
  },
  {
   "cell_type": "code",
   "execution_count": 36,
   "metadata": {},
   "outputs": [
    {
     "data": {
      "text/plain": [
       "Power_divergenceResult(statistic=32.447736671097331, pvalue=8.9962912439768291e-08)"
      ]
     },
     "execution_count": 36,
     "metadata": {},
     "output_type": "execute_result"
    }
   ],
   "source": [
    "chisquare([29,158,83], f_exp=[24,244,74])"
   ]
  },
  {
   "cell_type": "markdown",
   "metadata": {},
   "source": [
    "I must reject the h0 that both distributions are identical. "
   ]
  },
  {
   "cell_type": "markdown",
   "metadata": {},
   "source": [
    "### Mean contribution of each cluster:\n",
    "\n",
    "#### Heterogeneous games:"
   ]
  },
  {
   "cell_type": "code",
   "execution_count": 100,
   "metadata": {},
   "outputs": [],
   "source": [
    "## Creation of new arrays: \n",
    "## a) mean contribution per round of each cluster\n",
    "mean_het_c1_u = heterogeneous[heterogeneous['clust_coef']==0].iloc[:,:10].mean(axis=1)\n",
    "mean_het_c2_u = heterogeneous[heterogeneous['clust_coef']==1].iloc[:,:10].mean(axis=1)\n",
    "mean_het_c3_u = heterogeneous[heterogeneous['clust_coef']==2].iloc[:,:10].mean(axis=1)\n",
    "## b) standard deviation per round of each cluster\n",
    "sigma_het_c1_u = heterogeneous[heterogeneous['clust_coef']==0].iloc[:,:10].std(axis=1)\n",
    "sigma_het_c2_u = heterogeneous[heterogeneous['clust_coef']==1].iloc[:,:10].std(axis=1)\n",
    "sigma_het_c3_u = heterogeneous[heterogeneous['clust_coef']==2].iloc[:,:10].std(axis=1)\n",
    "\n"
   ]
  },
  {
   "cell_type": "code",
   "execution_count": 101,
   "metadata": {},
   "outputs": [
    {
     "data": {
      "text/plain": [
       "2.2392156862745094"
      ]
     },
     "execution_count": 101,
     "metadata": {},
     "output_type": "execute_result"
    }
   ],
   "source": [
    "## Which error?\n",
    "np.mean(mean_het_c1_u)"
   ]
  },
  {
   "cell_type": "code",
   "execution_count": 102,
   "metadata": {},
   "outputs": [
    {
     "data": {
      "text/plain": [
       "1.900657894736841"
      ]
     },
     "execution_count": 102,
     "metadata": {},
     "output_type": "execute_result"
    }
   ],
   "source": [
    "np.mean(mean_het_c2_u)"
   ]
  },
  {
   "cell_type": "code",
   "execution_count": 103,
   "metadata": {},
   "outputs": [
    {
     "data": {
      "text/plain": [
       "2.695522388059701"
      ]
     },
     "execution_count": 103,
     "metadata": {},
     "output_type": "execute_result"
    }
   ],
   "source": [
    "np.mean(mean_het_c3_u)"
   ]
  },
  {
   "cell_type": "markdown",
   "metadata": {},
   "source": [
    "#### Homogeneous games:"
   ]
  },
  {
   "cell_type": "code",
   "execution_count": 90,
   "metadata": {},
   "outputs": [],
   "source": [
    "## Creation of new arrays: \n",
    "## a) mean contribution per round of each cluster\n",
    "mean_hom_c1_u = homogeneous_norm[homogeneous_norm['clust_coef']==0].iloc[:,:10].mean(axis=1)\n",
    "mean_hom_c2_u = homogeneous_norm[homogeneous_norm['clust_coef']==1].iloc[:,:10].mean(axis=1)\n",
    "#mean_het_c3_u = homogeneous_norm[homogeneous_norm['clust_coef']==2].iloc[:,:10].mean(axis=1)\n",
    "## b) standard deviation per round of each cluster\n",
    "sigma_hom_c1_u = homogeneous_norm[homogeneous_norm['clust_coef']==0].iloc[:,:10].std(axis=1)\n",
    "sigma_hom_c2_u = homogeneous_norm[homogeneous_norm['clust_coef']==1].iloc[:,:10].std(axis=1)\n",
    "#sigma_het_c3_u = homogeneous_norm[homogeneous_norm['clust_coef']==2].iloc[:,:10].std(axis=1)\n"
   ]
  },
  {
   "cell_type": "code",
   "execution_count": 91,
   "metadata": {},
   "outputs": [
    {
     "data": {
      "text/plain": [
       "0.4413978494623657"
      ]
     },
     "execution_count": 91,
     "metadata": {},
     "output_type": "execute_result"
    }
   ],
   "source": [
    "## Which error?\n",
    "np.mean(mean_hom_c1_u)"
   ]
  },
  {
   "cell_type": "code",
   "execution_count": 92,
   "metadata": {},
   "outputs": [
    {
     "data": {
      "text/plain": [
       "0.662339743589744"
      ]
     },
     "execution_count": 92,
     "metadata": {},
     "output_type": "execute_result"
    }
   ],
   "source": [
    "np.mean(mean_hom_c2_u)"
   ]
  },
  {
   "cell_type": "code",
   "execution_count": null,
   "metadata": {},
   "outputs": [],
   "source": []
  },
  {
   "cell_type": "code",
   "execution_count": 60,
   "metadata": {},
   "outputs": [
    {
     "data": {
      "image/png": "[encoded data removed]",
      "text/plain": [
       "<matplotlib.figure.Figure at 0x218c69fdac8>"
      ]
     },
     "metadata": {},
     "output_type": "display_data"
    }
   ],
   "source": [
    "#categ_het\n",
    "plt.hist(categ_het.contr_total, bins=20)\n",
    "plt.show()"
   ]
  },
  {
   "cell_type": "code",
   "execution_count": 61,
   "metadata": {},
   "outputs": [
    {
     "data": {
      "image/png": "[encoded data removed]",
      "text/plain": [
       "<matplotlib.figure.Figure at 0x218c54ecd68>"
      ]
     },
     "metadata": {},
     "output_type": "display_data"
    }
   ],
   "source": [
    "#categ_het\n",
    "plt.hist(categ_hom.contr_total, bins=20)\n",
    "plt.show()"
   ]
  },
  {
   "cell_type": "code",
   "execution_count": 63,
   "metadata": {},
   "outputs": [
    {
     "data": {
      "text/plain": [
       "Ttest_indResult(statistic=-0.12038292941809448, pvalue=0.9042194527814178)"
      ]
     },
     "execution_count": 63,
     "metadata": {},
     "output_type": "execute_result"
    }
   ],
   "source": [
    "from scipy.stats import chisquare,ttest_ind\n",
    "\n",
    "ttest_ind(categ_het.contr_total,categ_hom.contr_total)\n",
    "## p-value > 0.05 we can not reject H0 of equal distributions. "
   ]
  },
  {
   "cell_type": "code",
   "execution_count": null,
   "metadata": {},
   "outputs": [],
   "source": []
  }
 ],
 "metadata": {
  "kernelspec": {
   "display_name": "Python 3",
   "language": "python",
   "name": "python3"
  },
  "language_info": {
   "codemirror_mode": {
    "name": "ipython",
    "version": 3
   },
   "file_extension": ".py",
   "mimetype": "text/x-python",
   "name": "python",
   "nbconvert_exporter": "python",
   "pygments_lexer": "ipython3",
   "version": "3.6.3"
  }
 },
 "nbformat": 4,
 "nbformat_minor": 2
}
